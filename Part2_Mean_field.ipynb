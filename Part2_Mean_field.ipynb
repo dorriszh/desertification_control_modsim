{
 "cells": [
  {
   "cell_type": "markdown",
   "metadata": {},
   "source": [
    "# Part 2: Mean-field models\n",
    "\n",
    "The CA model will become infeasible when the number of state variables becomes large (too many cells). Here, we derive a mean-field approximation to model desertification control process. In this model, we will ignore neighborhood influence and assume that cells are fully-connected. Then we only need to analysis the change of fraction of the population.\n",
    "\n",
    "We further simplify the conditions of land into two: $N$ represents non-desertification. $D$ represents desertification. We also simplify the type of trees into one. So a piece of land could be either $B$ (bald and no trees), or $V$ (vegatated). Overall, our mean-field model has four states and we define four time-dependent variable for each state.\n",
    "\n",
    "- $NB_t$ be the fraction of land that is bald but not desertified at time $t$;\n",
    "- $NV_t$ be the fraction of land that is covered with vegetation and not desertified at time $t$;\n",
    "- $DB_t$ be the fraction of land that is bald and desertified at time $t$;\n",
    "- $DV_t$ be the fraction of land that is covered with vegetation and desertified at time $t$,\n",
    "\n",
    "where $NB_t + NV_t + DB_t + DV_t = 1$.\n",
    "\n",
    "The transition between states can be represented in the figure below ![avatar](state_transition.jpg)\n",
    "\n",
    "where\n",
    "\n",
    "- $c_1$ is the conversion rate of non-desertification to desertification when the land is bald.\n",
    "- $c_2$ is the conversion rate of desertification to non-desertification when the land is cover with vegetation.\n",
    "- $d_1$ is the dying rate of trees on non_desertified land.\n",
    "- $d_2$ is the dying rate of trees on desertified land.\n",
    "- $p_1$ is the maximum fraction of non-desertified land that we plant trees at each time step.\n",
    "- $p_2$ is the maximum fraction of desertified land that we plant trees at each time step.\n",
    "- $\\hat{p_1}$ is the real fraction of non-desertified land that we plant trees at each time step. $\\hat{p_1} = \\min\\{p_1, NB_t(1-c_1)\\}$.\n",
    "- $\\hat{p_2}$ is the real fraction of desertified land that we plant trees at each time step. $\\hat{p_2} = \\min\\{p_2, DB_t\\}$.\n",
    "\n",
    "Then, our discrete-time dynamical system is:\n",
    "\\begin{align}\n",
    "NB_{t+1} &= NB_t * (1-c_1) + NV_t * d_1 - \\min\\{p_1, NB_t(1 - c_1) \\} \\\\\n",
    "NV_{t+1} &= NV_t * (1-d_1) + DV_t * c_2 + \\min\\{p_1, NB_t(1 - c_1) \\} \\\\\n",
    "DB_{t+1} &= DB_t + NB_t * c_1 + DV_t * d_2 - \\min\\{p_2, DB_t\\} \\\\\n",
    "DV_{t+1} &= DV_t * (1-c_2-d_2) + \\min\\{p_2, DB_t\\}\n",
    "\\end{align}"
   ]
  },
  {
   "cell_type": "markdown",
   "metadata": {},
   "source": [
    "## Implementing the mean-field model\n",
    "\n",
    "Let's first build a forward step function to calculate the state variables of the next time step."
   ]
  },
  {
   "cell_type": "code",
   "execution_count": 22,
   "metadata": {},
   "outputs": [],
   "source": [
    "import numpy as np\n",
    "import matplotlib.pyplot as plt"
   ]
  },
  {
   "cell_type": "code",
   "execution_count": 23,
   "metadata": {},
   "outputs": [],
   "source": [
    "def forward_step(x, c1, c2, d1, d2, p1, p2):\n",
    "    x_next = x.copy()\n",
    "    NB = 0\n",
    "    NV = 1\n",
    "    DB = 2\n",
    "    DV = 3\n",
    "    x_next[NB] = x[NB] * (1 - c1) + x[NV] * d1 - min(p1, x[NB] * (1 - c1))\n",
    "    x_next[NV] = x[NV] * (1 - d1) + x[DV] * c2 + min(p1, x[NB] * (1 - c1))\n",
    "    x_next[DB] = x[DB] + x[NB] * c1 + x[DV] * d2- min(p2, x[DB])\n",
    "    x_next[DV] = x[DV] * (1 - c2 - d2) + min(p2, x[DB])\n",
    "    return x_next"
   ]
  },
  {
   "cell_type": "markdown",
   "metadata": {},
   "source": [
    "Next we build a function that simulates the system for $t_{max}$ time steps. Assume $DB=1$ as the initial state. "
   ]
  },
  {
   "cell_type": "code",
   "execution_count": 24,
   "metadata": {},
   "outputs": [],
   "source": [
    "def sim(t_max, c1, c2, d1, d2, p1, p2):\n",
    "    X = np.zeros((4, t_max+1))\n",
    "    X[:, 0] = np.array([0, 0, 1, 0])\n",
    "    for t in range(t_max):\n",
    "        X[:, t+1] = forward_step(X[:, t], c1, c2, d1, d2, p1, p2)\n",
    "    return X\n",
    "\n",
    "def summarize_sim(X, c1, c2, d1, d2, p1, p2):\n",
    "    t_max = X.shape[1] - 1\n",
    "    print('Simulation results: t_max = {}, c1={}, c2={}, d1={}, d2={}, p1={}, p2={}'.format(t_max, c1, c2, d1, d2, p1, p2))\n",
    "    NB = X[0, -1]\n",
    "    NV = X[1, -1]\n",
    "    DB = X[2, -1]\n",
    "    DV = X[3, -1]\n",
    "    print(\"- NB_{{{}}} = {:.3f}\".format(t_max, NB))\n",
    "    print(\"- NV_{{{}}} = {:.3f}\".format(t_max, NV))\n",
    "    print(\"- DB_{{{}}} = {:.3f}\".format(t_max, DB))\n",
    "    print(\"- DV_{{{}}} = {:.3f}\".format(t_max, DV))\n",
    "    \n",
    "def plot_sim(X, c1, c2, d1, d2, p1, p2):\n",
    "    t_max = X.shape[1] - 1\n",
    "    T = np.arange(t_max + 1)\n",
    "    plt.plot(T, X[0, :], 'y-')\n",
    "    plt.plot(T, X[1, :], 'r-')\n",
    "    plt.plot(T, X[2, :], 'b-')\n",
    "    plt.plot(T, X[3, :], 'g-')\n",
    "    plt.legend(['NB', 'NV', 'DB', 'DV'])\n",
    "    plt.axis([0, t_max+1, 0, 1])\n",
    "    plt.title('c1={}, c2={}, d1={}, d2={}, p1={}, p2={}'.format(c1, c2, d1, d2, p1, p2))"
   ]
  },
  {
   "cell_type": "markdown",
   "metadata": {},
   "source": [
    "Now we set the parameters as $c_1 = 0.1$, $c_2 = 0.1$, $d_1 = 0.01$, $d_2 = 0.2$, $p_1 = 0.2$, $p_2 = 0.2$ and run the simulation to see the result."
   ]
  },
  {
   "cell_type": "code",
   "execution_count": 25,
   "metadata": {},
   "outputs": [
    {
     "name": "stdout",
     "output_type": "stream",
     "text": [
      "Simulation results: t_max = 100, c1=0.2, c2=0.1, d1=0.01, d2=0.2, p1=0.2, p2=0.2\n",
      "- NB_{100} = 0.010\n",
      "- NV_{100} = 0.965\n",
      "- DB_{100} = 0.006\n",
      "- DV_{100} = 0.019\n"
     ]
    },
    {
     "data": {
      "image/png": "[encoded data removed]",
      "text/plain": [
       "<Figure size 432x288 with 1 Axes>"
      ]
     },
     "metadata": {
      "needs_background": "light"
     },
     "output_type": "display_data"
    }
   ],
   "source": [
    "t_max = 100\n",
    "c1 = 0.2\n",
    "c2 = 0.1\n",
    "d1 = 0.01\n",
    "d2 = 0.2\n",
    "p1 = 0.2\n",
    "p2 = 0.2\n",
    "X = sim(t_max, c1, c2, d1, d2, p1, p2)\n",
    "summarize_sim(X, c1, c2, d1, d2, p1, p2)\n",
    "plot_sim(X, c1, c2, d1, d2, p1, p2)"
   ]
  },
  {
   "cell_type": "markdown",
   "metadata": {},
   "source": [
    "In the simulation experiment above, the desert is converted into green land in about 50 time steps.\n",
    "\n",
    "If we "
   ]
  },
  {
   "cell_type": "markdown",
   "metadata": {},
   "source": [
    "## Finding a good strategy that minimizes the cost\n",
    "\n",
    "After implementing our simulation model, we want to find a good strategy of planting trees that minimizes the cost to convert a bald desert land into green land. Here, strategies are represented by two values: $p_1$ and $p_2$. Cost is the total number of trees died during a given length of time steps. A successful desertification control means the fraction of non-desertified land covered with vegetation (NV) becomes larger than 0.9 after a given time.\n",
    "\n",
    "Let's assume the number of time steps we are given to control the desertification of a piece of land is 50, i.e. $t_{max} = 50$. In order to find the best strategy, we will apply grid search over $p_1$ and $p_2$ to find the best pair of values that minimizes the number of trees died while satisfies $NV \\geq 0.9$ at time step 50."
   ]
  },
  {
   "cell_type": "markdown",
   "metadata": {},
   "source": [
    "First, we need to modify our 'forward_step' function to return the number of trees die during a time step."
   ]
  },
  {
   "cell_type": "code",
   "execution_count": 26,
   "metadata": {},
   "outputs": [],
   "source": [
    "def forward_step_new(x, c1, c2, d1, d2, p1, p2):\n",
    "    x_next = x.copy()\n",
    "    NB = 0\n",
    "    NV = 1\n",
    "    DB = 2\n",
    "    DV = 3\n",
    "    x_next[NB] = x[NB] * (1 - c1) + x[NV] * d1 - min(p1, x[NB] * (1 - c1))\n",
    "    x_next[NV] = x[NV] * (1 - d1) + x[DV] * c2 + min(p1, x[NB] * (1 - c1))\n",
    "    x_next[DB] = x[DB] + x[NB] * c1 + x[DV] * d2- min(p2, x[DB])\n",
    "    x_next[DV] = x[DV] * (1 - c2 - d2) + min(p2, x[DB])\n",
    "    tree_died = x[NV] * d1 + x[DV] * d2\n",
    "    return x_next, tree_died"
   ]
  },
  {
   "cell_type": "markdown",
   "metadata": {},
   "source": [
    "Second, we need to modify our 'sim' function to return the total number of trees die during $t_{max}$ time steps."
   ]
  },
  {
   "cell_type": "code",
   "execution_count": 27,
   "metadata": {},
   "outputs": [],
   "source": [
    "def sim_new(t_max, c1, c2, d1, d2, p1, p2):\n",
    "    X = np.zeros((4, t_max+1))\n",
    "    X[:, 0] = np.array([0, 0, 1, 0])\n",
    "    total_tree_died = 0\n",
    "    for t in range(t_max):\n",
    "        X[:, t+1], tree_died = forward_step_new(X[:, t], c1, c2, d1, d2, p1, p2)\n",
    "        total_tree_died += tree_died\n",
    "    return X, total_tree_died\n",
    "\n",
    "def summarize_sim_new(X, c1, c2, d1, d2, p1, p2):\n",
    "    t_max = X.shape[1] - 1\n",
    "    print('Simulation results: t_max = {}, c1={}, c2={}, d1={}, d2={}, p1={}, p2={}'.format(t_max, c1, c2, d1, d2, p1, p2))\n",
    "    NB = X[0, -1]\n",
    "    NV = X[1, -1]\n",
    "    DB = X[2, -1]\n",
    "    DV = X[3, -1]\n",
    "    print(\"- NB_{{{}}} = {:.3f}\".format(t_max, NB))\n",
    "    print(\"- NV_{{{}}} = {:.3f}\".format(t_max, NV))\n",
    "    print(\"- DB_{{{}}} = {:.3f}\".format(t_max, DB))\n",
    "    print(\"- DV_{{{}}} = {:.3f}\".format(t_max, DV))\n",
    "\n",
    "def plot_sim_new(X, c1, c2, d1, d2, p1, p2):\n",
    "    t_max = X.shape[1] - 1\n",
    "    T = np.arange(t_max + 1)\n",
    "    plt.plot(T, X[0, :], 'y-')\n",
    "    plt.plot(T, X[1, :], 'r-')\n",
    "    plt.plot(T, X[2, :], 'b-')\n",
    "    plt.plot(T, X[3, :], 'g-')\n",
    "    plt.legend(['NB', 'NV', 'DB', 'DV'])\n",
    "    plt.axis([0, t_max+1, 0, 1])\n",
    "    plt.title('c1={}, c2={}, d1={}, d2={}, p1={}, p2={}'.format(c1, c2, d1, d2, p1, p2))"
   ]
  },
  {
   "cell_type": "markdown",
   "metadata": {},
   "source": [
    "Next, we need to write a script to perform grid search over $p_1$ and $p_2$. We will keep the values of $c_1, c_2, d_1, d_2$ the same as our first experiment."
   ]
  },
  {
   "cell_type": "code",
   "execution_count": 28,
   "metadata": {},
   "outputs": [
    {
     "name": "stdout",
     "output_type": "stream",
     "text": [
      "NV_matrix:\n",
      "[[0.1471 0.2795 0.5325 0.837  0.8555 0.8574 0.8579]\n",
      " [0.1475 0.2942 0.559  0.8525 0.8706 0.8725 0.8729]\n",
      " [0.1475 0.2951 0.5884 0.8816 0.9003 0.9025 0.903 ]\n",
      " [0.1475 0.2951 0.5901 0.9177 0.9473 0.9513 0.9522]\n",
      " [0.1475 0.2951 0.5901 0.9177 0.9473 0.9513 0.9522]\n",
      " [0.1475 0.2951 0.5901 0.9177 0.9473 0.9513 0.9522]\n",
      " [0.1475 0.2951 0.5901 0.9177 0.9473 0.9513 0.9522]]\n",
      "\n",
      "\n",
      "total_tree_died_matrix:\n",
      "[[0.3455 0.6896 1.375  2.3102 2.5412 2.6054 2.6252]\n",
      " [0.3455 0.6909 1.3792 2.2791 2.5012 2.5623 2.5809]\n",
      " [0.3455 0.6909 1.3818 2.2331 2.4327 2.4857 2.5018]\n",
      " [0.3455 0.6909 1.3818 2.2084 2.3688 2.4092 2.4216]\n",
      " [0.3455 0.6909 1.3818 2.2084 2.3688 2.4092 2.4216]\n",
      " [0.3455 0.6909 1.3818 2.2084 2.3688 2.4092 2.4216]\n",
      " [0.3455 0.6909 1.3818 2.2084 2.3688 2.4092 2.4216]]\n",
      "\n",
      "\n",
      "best strategy: p1=0.008, p2=0.08\n"
     ]
    }
   ],
   "source": [
    "t_max = 50\n",
    "c1 = 0.2\n",
    "c2 = 0.1\n",
    "d1 = 0.01\n",
    "d2 = 0.2\n",
    "p1_lst = [0.001, 0.002, 0.004, 0.008, 0.016, 0.032, 0.064]\n",
    "p2_lst = [0.01, 0.02, 0.04, 0.08, 0.16, 0.32, 0.64]\n",
    "NV_matrix = np.zeros((len(p1_lst), len(p2_lst)))\n",
    "total_tree_died_matrix = np.zeros((len(p1_lst), len(p2_lst)))\n",
    "best_cost = 1000\n",
    "for i in range(len(p1_lst)):\n",
    "    for j in range(len(p2_lst)):\n",
    "        p1 = p1_lst[i]\n",
    "        p2 = p2_lst[j]\n",
    "        X, total_tree_died = sim_new(t_max, c1, c2, d1, d2, p1, p2)\n",
    "        NV_matrix[i, j] = X[1, -1]\n",
    "        total_tree_died_matrix[i, j] = total_tree_died\n",
    "        if NV_matrix[i, j] > 0.9 and total_tree_died_matrix[i, j] < best_cost:\n",
    "            best_cost = total_tree_died\n",
    "            best_p1 = p1\n",
    "            best_p2 = p2\n",
    "np.set_printoptions(precision=4)\n",
    "print('NV_matrix:')\n",
    "print(NV_matrix)\n",
    "print('\\n')\n",
    "print('total_tree_died_matrix:')\n",
    "print(total_tree_died_matrix)\n",
    "print('\\n')\n",
    "print('best strategy: p1={}, p2={}'.format(best_p1, best_p2))\n"
   ]
  },
  {
   "cell_type": "markdown",
   "metadata": {},
   "source": [
    "## How will the initial state affect the simulation result?\n",
    "\n",
    "Now we are going to study how will the initial state affect our simulation model. Assume at time $t_0$, every piece of land could only be in two state: $NV$ or $DB$ (i.e. $NV_0 + DB_0 = 1, NB_0 = DV_0 = 0$). Let's see how many trees will die before $NV > 0.9$, if we start from different initial states."
   ]
  },
  {
   "cell_type": "code",
   "execution_count": 29,
   "metadata": {},
   "outputs": [
    {
     "data": {
      "text/plain": [
       "Text(0, 0.5, 'cost (# trees died)')"
      ]
     },
     "execution_count": 29,
     "metadata": {},
     "output_type": "execute_result"
    },
    {
     "data": {
      "image/png": "[encoded data removed]",
      "text/plain": [
       "<Figure size 432x288 with 1 Axes>"
      ]
     },
     "metadata": {
      "needs_background": "light"
     },
     "output_type": "display_data"
    }
   ],
   "source": [
    "t_max = 50\n",
    "c1 = 0.2\n",
    "c2 = 0.1\n",
    "d1 = 0.01\n",
    "d2 = 0.2\n",
    "p1 = 0.008\n",
    "p2 = 0.08\n",
    "DB0 = [0.2, 0.3, 0.4, 0.5, 0.6, 0.7, 0.8, 0.9, 1.0]\n",
    "cost_lst = []\n",
    "for i in range(len(DB0)):\n",
    "    x = np.zeros((4,1))\n",
    "    x[1] = 1 - DB0[i]\n",
    "    x[2] = DB0[i]\n",
    "    total_cost = 0\n",
    "    for t in range(t_max):\n",
    "        x, cost = forward_step_new(x, c1, c2, d1, d2, p1, p2)\n",
    "        total_cost += cost\n",
    "        if x[1] > 0.9:\n",
    "            cost_lst.append(total_cost)\n",
    "            break\n",
    "    \n",
    "plt.plot(NV0, cost_lst, 'y-')\n",
    "plt.xlabel('NV_0')\n",
    "plt.ylabel('cost (# trees died)')"
   ]
  },
  {
   "cell_type": "markdown",
   "metadata": {},
   "source": [
    "It shows that the cost decreases almost linearily when $DB_0$ increases. The result superised me a little bit. I have expected a larger curvature than this. It is intuitive to think that the severer the desertification is, the harder it is to control the desertification. However, our models gives an almost linear relationship."
   ]
  },
  {
   "cell_type": "markdown",
   "metadata": {},
   "source": [
    "It is interesting to see that if we change the assumption about the initial state to \"$NB_0 + DB_0 = 1, NV_0 = DV_0 = 0$, the result is in accord with our intuition. The non-linearity in the show means it is much harder to control the desertification if the desertification is already very severe."
   ]
  },
  {
   "cell_type": "code",
   "execution_count": 30,
   "metadata": {},
   "outputs": [
    {
     "data": {
      "text/plain": [
       "Text(0, 0.5, 'cost (# trees died)')"
      ]
     },
     "execution_count": 30,
     "metadata": {},
     "output_type": "execute_result"
    },
    {
     "data": {
      "image/png": "[encoded data removed]",
      "text/plain": [
       "<Figure size 432x288 with 1 Axes>"
      ]
     },
     "metadata": {
      "needs_background": "light"
     },
     "output_type": "display_data"
    }
   ],
   "source": [
    "t_max = 50\n",
    "c1 = 0.2\n",
    "c2 = 0.1\n",
    "d1 = 0.01\n",
    "d2 = 0.2\n",
    "p1 = 0.008\n",
    "p2 = 0.08\n",
    "NB0 = [0.2, 0.3, 0.4, 0.5, 0.6, 0.7, 0.8, 0.9, 1.0]\n",
    "cost_lst = []\n",
    "for i in range(len(NB0)):\n",
    "    x = np.zeros((4,1))\n",
    "    x[0] = 1 - NB0[i]\n",
    "    x[2] = NB0[i]\n",
    "    total_cost = 0\n",
    "    for t in range(t_max):\n",
    "        x, cost = forward_step_new(x, c1, c2, d1, d2, p1, p2)\n",
    "        total_cost += cost\n",
    "        if x[1] > 0.9:\n",
    "            cost_lst.append(total_cost)\n",
    "            break\n",
    "    \n",
    "plt.plot(NV0, cost_lst, 'y-')\n",
    "plt.xlabel('NV_0')\n",
    "plt.ylabel('cost (# trees died)')"
   ]
  },
  {
   "cell_type": "code",
   "execution_count": null,
   "metadata": {},
   "outputs": [],
   "source": []
  }
 ],
 "metadata": {
  "kernelspec": {
   "display_name": "Python 3",
   "language": "python",
   "name": "python3"
  },
  "language_info": {
   "codemirror_mode": {
    "name": "ipython",
    "version": 3
   },
   "file_extension": ".py",
   "mimetype": "text/x-python",
   "name": "python",
   "nbconvert_exporter": "python",
   "pygments_lexer": "ipython3",
   "version": "3.8.2"
  }
 },
 "nbformat": 4,
 "nbformat_minor": 4
}
